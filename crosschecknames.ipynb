{
 "cells": [
  {
   "cell_type": "code",
   "execution_count": 28,
   "id": "fa1616bf-6efc-4db9-9fb9-f0712a204002",
   "metadata": {},
   "outputs": [
    {
     "name": "stdout",
     "output_type": "stream",
     "text": [
      "DID NOT SHOW UP:\n",
      "Anya Forger\n",
      "Yor Forger\n",
      "Victor Nikiforov\n",
      "Yuri Plisetsky\n"
     ]
    }
   ],
   "source": [
    "# Paste the first set of names in the format of 'FirstName LastName'\n",
    "names1 = \"\"\"\n",
    "Anya Forger\n",
    "Lloyd Forger\n",
    "Yor Forger\n",
    "Victor Nikiforov\n",
    "Yuri Plisetsky\n",
    "Yuuri Katsuki\n",
    "\"\"\"\n",
    "\n",
    "# Paste the second set of names in the format of 'FirstName LastName'\n",
    "names2 = \"\"\"\n",
    "Lloyd Forger\n",
    "Yuuri Katsuki\n",
    "\"\"\"\n",
    "\n",
    "names1 = [{\"first_name\": name.split()[0], \"last_name\": name.split()[1]} for name in text1.strip().split(\"\\n\")]\n",
    "names2 = [{\"first_name\": name.split()[0], \"last_name\": name.split()[1]} for name in text2.strip().split(\"\\n\")]\n",
    "\n",
    "not_in_both = []\n",
    "for name1 in names1:\n",
    "    found = False\n",
    "    for name2 in names2:\n",
    "        if name1[\"first_name\"] == name2[\"first_name\"] and name1[\"last_name\"] == name2[\"last_name\"]:\n",
    "            found = True\n",
    "            break\n",
    "    if not found:\n",
    "        not_in_both.append(name1)\n",
    "\n",
    "print(\"DID NOT SHOW UP:\")\n",
    "for name in not_in_both:\n",
    "    print(\"{} {}\".format(name[\"first_name\"], name[\"last_name\"]))"
   ]
  }
 ],
 "metadata": {
  "kernelspec": {
   "display_name": "Python 3 (ipykernel)",
   "language": "python",
   "name": "python3"
  },
  "language_info": {
   "codemirror_mode": {
    "name": "ipython",
    "version": 3
   },
   "file_extension": ".py",
   "mimetype": "text/x-python",
   "name": "python",
   "nbconvert_exporter": "python",
   "pygments_lexer": "ipython3",
   "version": "3.9.15"
  }
 },
 "nbformat": 4,
 "nbformat_minor": 5
}
